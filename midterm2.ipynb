{
 "cells": [
  {
   "cell_type": "code",
   "execution_count": 103,
   "metadata": {
    "collapsed": true
   },
   "outputs": [],
   "source": [
    "import numpy as np\n",
    "import matplotlib.pyplot as plt\n",
    "\n",
    "class polynomial(object):\n",
    "    def __init__(self, c, v):\n",
    "        self.coeff = c\n",
    "        self.v = v\n",
    "    def __repr__(self):\n",
    "        D = len(self.coeff)\n",
    "        for i in range(D):\n",
    "            if i<D-1:\n",
    "                print(self.coeff[i], end='')\n",
    "                print('{}^{}+'.format(self.v, D-i-1), end='')\n",
    "            else:\n",
    "                print(self.coeff[i])\n",
    "        \n",
    "        return str(self.coeff)\n",
    "    def __add__(self,b):\n",
    "        \"\"\"Computes a+b and returns the result\"\"\"\n",
    "        coeff1 = self.coeff\n",
    "        coeff2 = b.coeff\n",
    "        coeff = []\n",
    "            \n",
    "        if(len(coeff1)>len(coeff2)):\n",
    "            zeros = [0]*(len(coeff1)-len(coeff2))\n",
    "            coeff2 = zeros+coeff2\n",
    "        else:\n",
    "            zeros = [0]*(len(coeff2)-len(coeff1))\n",
    "            coeff1 = zeros+coeff1\n",
    "        for i in range(len(coeff1)):\n",
    "            coeff.append(coeff1[i] + coeff2[i])\n",
    "            \n",
    "        return polynomial(coeff, self.v)\n",
    "    \n",
    "    def __sub__(self,b):\n",
    "        \"\"\"Computes a-b and returns the result\"\"\"\n",
    "        coeff1 = self.coeff\n",
    "        coeff2 = b.coeff\n",
    "        coeff = []\n",
    "            \n",
    "        if(len(coeff1)>len(coeff2)):\n",
    "            zeros = [0]*(len(coeff1)-len(coeff2))\n",
    "            coeff2 = zeros+coeff2\n",
    "        else:\n",
    "            zeros = [0]*(len(coeff2)-len(coeff1))\n",
    "            coeff1 = zeros+coeff1\n",
    "\n",
    "        for i in range(len(coeff1)):\n",
    "            coeff.append(coeff1[i] - coeff2[i])\n",
    "            \n",
    "        return polynomial(coeff,self.v)\n",
    "    \n",
    "    def __mul__(self,b):\n",
    "        \"\"\"Computes a*b and returns the result\"\"\"\n",
    "        coeff1 = self.coeff\n",
    "        coeff2 = b.coeff\n",
    "        coeff = [0]*(len(coeff1)+len(coeff2)-1)\n",
    "     \n",
    "        for i in range(len(coeff1)):\n",
    "            for z in range(len(coeff2)):\n",
    "                coeff[(i+z)]+=coeff1[i]*coeff2[z]\n",
    "            \n",
    "        return polynomial(coeff,self.v)\n",
    "    \n",
    "    def plot(self, number_of_points=100, left=-1, right=1):\n",
    "        \"\"\"Plots the function\"\"\"\n",
    "        \n",
    "        interval = np.arange(left,right+(2/100),2/100)\n",
    "        dim = np.arange(left,right+(2/100),0.1)\n",
    "        \n",
    "        for i in range(len(interval)):\n",
    "            y=0\n",
    "            for coindex in range(len(self.coeff)):\n",
    "                y += self.coeff[len(self.coeff)-coindex-1]*(interval[i]**coindex)\n",
    "            plt.plot(interval[i], y,'o', ms=5)\n",
    "        \n",
    "        plt.title(\"List of numbers vs moving averages\")\n",
    "        plt.xlabel(\"X\")\n",
    "        plt.xticks(dim)\n",
    "        plt.ylabel(\"Y\")\n",
    "        plt.gcf().set_size_inches(10,5)\n",
    "        plt.show()"
   ]
  },
  {
   "cell_type": "code",
   "execution_count": 104,
   "metadata": {},
   "outputs": [
    {
     "name": "stdout",
     "output_type": "stream",
     "text": [
      "10z^2+0z^1+15\n"
     ]
    },
    {
     "data": {
      "text/plain": [
       "[10, 0, 15]"
      ]
     },
     "execution_count": 104,
     "metadata": {},
     "output_type": "execute_result"
    }
   ],
   "source": [
    "p = polynomial([10,0,15], 'z')\n",
    "q = polynomial([5,4,4,1], 'z')\n",
    "p"
   ]
  },
  {
   "cell_type": "code",
   "execution_count": 105,
   "metadata": {},
   "outputs": [
    {
     "name": "stdout",
     "output_type": "stream",
     "text": [
      "5z^3+14z^2+4z^1+16\n"
     ]
    },
    {
     "data": {
      "text/plain": [
       "[5, 14, 4, 16]"
      ]
     },
     "execution_count": 105,
     "metadata": {},
     "output_type": "execute_result"
    }
   ],
   "source": [
    "p.__add__(q)"
   ]
  },
  {
   "cell_type": "code",
   "execution_count": 106,
   "metadata": {},
   "outputs": [
    {
     "name": "stdout",
     "output_type": "stream",
     "text": [
      "-5z^3+6z^2+-4z^1+14\n"
     ]
    },
    {
     "data": {
      "text/plain": [
       "[-5, 6, -4, 14]"
      ]
     },
     "execution_count": 106,
     "metadata": {},
     "output_type": "execute_result"
    }
   ],
   "source": [
    "p.__sub__(q)"
   ]
  },
  {
   "cell_type": "code",
   "execution_count": 107,
   "metadata": {},
   "outputs": [
    {
     "name": "stdout",
     "output_type": "stream",
     "text": [
      "50z^5+40z^4+115z^3+70z^2+60z^1+15\n"
     ]
    },
    {
     "data": {
      "text/plain": [
       "[50, 40, 115, 70, 60, 15]"
      ]
     },
     "execution_count": 107,
     "metadata": {},
     "output_type": "execute_result"
    }
   ],
   "source": [
    "p.__mul__(q)"
   ]
  },
  {
   "cell_type": "code",
   "execution_count": 108,
   "metadata": {},
   "outputs": [
    {
     "data": {
      "image/png": "[encoded data removed]",
      "text/plain": [
       "<matplotlib.figure.Figure at 0x1176240f0>"
      ]
     },
     "metadata": {},
     "output_type": "display_data"
    }
   ],
   "source": [
    "p.plot()"
   ]
  }
 ],
 "metadata": {
  "kernelspec": {
   "display_name": "Python 3",
   "language": "python",
   "name": "python3"
  },
  "language_info": {
   "codemirror_mode": {
    "name": "ipython",
    "version": 3
   },
   "file_extension": ".py",
   "mimetype": "text/x-python",
   "name": "python",
   "nbconvert_exporter": "python",
   "pygments_lexer": "ipython3",
   "version": "3.6.1"
  }
 },
 "nbformat": 4,
 "nbformat_minor": 2
}
